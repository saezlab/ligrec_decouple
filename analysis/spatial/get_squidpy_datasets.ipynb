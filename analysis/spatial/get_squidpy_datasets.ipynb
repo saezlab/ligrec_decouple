{
 "cells": [
  {
   "cell_type": "code",
   "execution_count": 1,
   "id": "naked-collapse",
   "metadata": {},
   "outputs": [],
   "source": [
    "# import packages\n",
    "import scanpy as sc\n",
    "import squidpy as sq\n",
    "import pandas as pd\n",
    "import numpy as np"
   ]
  },
  {
   "cell_type": "code",
   "execution_count": null,
   "id": "coupled-firmware",
   "metadata": {},
   "outputs": [],
   "source": []
  },
  {
   "cell_type": "markdown",
   "id": "applicable-strike",
   "metadata": {},
   "source": [
    "## Function to Get Squidpy Datasets and do NES"
   ]
  },
  {
   "cell_type": "code",
   "execution_count": 2,
   "id": "specified-palace",
   "metadata": {},
   "outputs": [],
   "source": [
    "\"\"\"\"\"\n",
    "Title: Function to return the EM and do NES with Squidpy\n",
    "\n",
    "params:\n",
    "    adata - anndata\n",
    "    coord_type - type of coordinate system\n",
    "    cluster_key - variable where clustering is stored\n",
    "    spatial_key - where spatial coordinates are stored - for some reason relevant for neighbourhood analysis\n",
    "    kwargs - passed to plot\n",
    "    \n",
    "    \n",
    "returns: list with both adata and nes\n",
    "\"\"\"\"\"\n",
    "def get_adata_nes(adata, cluster_key, spatial_key = \"spatial\", **kwargs):\n",
    "    sq.gr.spatial_neighbors(adata, coord_type=\"generic\", spatial_key=spatial_key)\n",
    "    sq.gr.nhood_enrichment(adata, cluster_key=cluster_key)\n",
    "    sq.pl.nhood_enrichment(adata, cluster_key=cluster_key, **kwargs)\n",
    "    \n",
    "    # nes\n",
    "    cats = adata.obs[cluster_key].cat.categories\n",
    "    nes_key = \"{}_nhood_enrichment\".format(cluster_key)\n",
    "    nes = pd.DataFrame(adata.uns[nes_key]['zscore'], index=cats, columns=cats)\n",
    "    \n",
    "    both = dict(adata = adata, nes = nes)\n",
    "    return(both)"
   ]
  },
  {
   "cell_type": "code",
   "execution_count": null,
   "id": "metropolitan-bridges",
   "metadata": {},
   "outputs": [],
   "source": []
  },
  {
   "cell_type": "code",
   "execution_count": 3,
   "id": "promotional-therapy",
   "metadata": {
    "scrolled": false
   },
   "outputs": [
    {
     "name": "stderr",
     "output_type": "stream",
     "text": [
      "/home/dbdimitrov/.local/lib/python3.8/site-packages/scipy/sparse/_index.py:125: SparseEfficiencyWarning: Changing the sparsity structure of a csr_matrix is expensive. lil_matrix is more efficient.\n",
      "  self._set_arrayXarray(i, j, x)\n"
     ]
    },
    {
     "data": {
      "application/vnd.jupyter.widget-view+json": {
       "model_id": "0660f74aaa434e81a4f61b1da0d9636e",
       "version_major": 2,
       "version_minor": 0
      },
      "text/plain": [
       "  0%|          | 0/1000 [00:00<?, ?/s]"
      ]
     },
     "metadata": {},
     "output_type": "display_data"
    },
    {
     "name": "stderr",
     "output_type": "stream",
     "text": [
      "/home/dbdimitrov/anaconda3/envs/liana_env/lib/python3.8/site-packages/squidpy/pl/_utils.py:573: MatplotlibDeprecationWarning: In a future version, 'pad' will default to rcParams['figure.subplot.hspace'].  Set pad=0 to keep the old behavior.\n",
      "  col_ax = divider.append_axes(\"top\", size=\"5%\")\n"
     ]
    },
    {
     "data": {
      "text/plain": [
       "{'adata': AnnData object with n_obs × n_vars = 19416 × 351\n",
       "     obs: 'Area', 'celltype_mapped_refined'\n",
       "     uns: 'celltype_mapped_refined_colors', 'spatial_neighbors', 'celltype_mapped_refined_nhood_enrichment'\n",
       "     obsm: 'X_umap', 'spatial'\n",
       "     obsp: 'spatial_connectivities', 'spatial_distances',\n",
       " 'nes':                                 Allantois  Anterior somitic tissues  \\\n",
       " Allantois                       38.088814                 -1.636609   \n",
       " Anterior somitic tissues        -1.638865                 22.095506   \n",
       " Cardiomyocytes                  -3.777047                 -4.949895   \n",
       " Cranial mesoderm                -3.506837                 11.763731   \n",
       " Definitive endoderm             -2.271770                 -1.282354   \n",
       " Dermomyotome                    -3.207678                 17.720137   \n",
       " Endothelium                     -0.847676                 15.275580   \n",
       " Erythroid                       -0.465733                 -2.379168   \n",
       " Forebrain/Midbrain/Hindbrain   -10.283326                -11.761133   \n",
       " Gut tube                        -5.889346                 -6.384156   \n",
       " Haematoendothelial progenitors   2.535288                 17.534184   \n",
       " Intermediate mesoderm            7.539391                 -1.902244   \n",
       " Lateral plate mesoderm          17.280224                 -7.045503   \n",
       " Low quality                     -3.264714                 -2.436974   \n",
       " Mixed mesenchymal mesoderm      31.150580                 -4.234253   \n",
       " Neural crest                    -4.817308                  4.846514   \n",
       " NMP                             -1.585812                 -2.006751   \n",
       " Presomitic mesoderm             -3.392145                 -1.549792   \n",
       " Sclerotome                      -1.421255                 24.537488   \n",
       " Spinal cord                     -8.104283                 -7.326417   \n",
       " Splanchnic mesoderm             -3.407478                 -4.379655   \n",
       " Surface ectoderm                -0.724393                 -5.059846   \n",
       " \n",
       "                                 Cardiomyocytes  Cranial mesoderm  \\\n",
       " Allantois                            -4.158231         -3.481796   \n",
       " Anterior somitic tissues             -4.977880         10.356739   \n",
       " Cardiomyocytes                      216.017124        -11.334471   \n",
       " Cranial mesoderm                    -11.136344        120.482321   \n",
       " Definitive endoderm                  -6.422182          0.358385   \n",
       " Dermomyotome                        -11.485735          0.735352   \n",
       " Endothelium                          -5.357374          1.713057   \n",
       " Erythroid                            -4.494273         -5.093695   \n",
       " Forebrain/Midbrain/Hindbrain        -32.530016        -17.041547   \n",
       " Gut tube                            -19.560596         -1.589115   \n",
       " Haematoendothelial progenitors       -7.752323          2.151151   \n",
       " Intermediate mesoderm               -11.938995         -6.864077   \n",
       " Lateral plate mesoderm              -17.290328        -15.373770   \n",
       " Low quality                         -17.977393         -7.613941   \n",
       " Mixed mesenchymal mesoderm            1.841502         -9.672031   \n",
       " Neural crest                        -14.675905          2.413545   \n",
       " NMP                                  -5.117398         -3.311567   \n",
       " Presomitic mesoderm                 -10.586751         -8.330133   \n",
       " Sclerotome                           -4.415226         10.556517   \n",
       " Spinal cord                         -25.628833        -16.901692   \n",
       " Splanchnic mesoderm                  -9.717467        -11.883327   \n",
       " Surface ectoderm                    -11.960561        -11.137026   \n",
       " \n",
       "                                 Definitive endoderm  Dermomyotome  \\\n",
       " Allantois                                 -2.250242     -3.540821   \n",
       " Anterior somitic tissues                  -1.705730     16.937410   \n",
       " Cardiomyocytes                            -6.494094    -11.454554   \n",
       " Cranial mesoderm                          -2.133607      2.969712   \n",
       " Definitive endoderm                      122.966933     -5.617735   \n",
       " Dermomyotome                              -5.762665    108.449647   \n",
       " Endothelium                               -5.089690     -5.851074   \n",
       " Erythroid                                 -3.859015     -6.835299   \n",
       " Forebrain/Midbrain/Hindbrain              -4.821087    -27.098764   \n",
       " Gut tube                                  -6.378451    -15.263694   \n",
       " Haematoendothelial progenitors            -1.249797      0.905412   \n",
       " Intermediate mesoderm                     -5.719133     23.395774   \n",
       " Lateral plate mesoderm                    -9.331595    -14.716282   \n",
       " Low quality                                1.502231     -6.867263   \n",
       " Mixed mesenchymal mesoderm                -5.686353     -9.869277   \n",
       " Neural crest                              -7.435037     -4.232188   \n",
       " NMP                                       -2.456293      1.271671   \n",
       " Presomitic mesoderm                       -5.217322     26.235644   \n",
       " Sclerotome                                -1.822224     25.698831   \n",
       " Spinal cord                               -2.462590    -14.483609   \n",
       " Splanchnic mesoderm                       -7.610047     -7.820788   \n",
       " Surface ectoderm                          -1.926281     -6.251642   \n",
       " \n",
       "                                 Endothelium   Erythroid  \\\n",
       " Allantois                          0.070565   -1.247265   \n",
       " Anterior somitic tissues          13.646318   -2.954286   \n",
       " Cardiomyocytes                    -2.320220   -4.664449   \n",
       " Cranial mesoderm                   2.572423   -5.431722   \n",
       " Definitive endoderm               -2.258102   -3.623776   \n",
       " Dermomyotome                      -4.522896   -7.000086   \n",
       " Endothelium                       78.881696   11.184848   \n",
       " Erythroid                         11.255085  101.458366   \n",
       " Forebrain/Midbrain/Hindbrain     -34.157921  -19.387830   \n",
       " Gut tube                          -3.969493  -10.303078   \n",
       " Haematoendothelial progenitors    42.573404   -1.102866   \n",
       " Intermediate mesoderm             -4.056014   -6.763899   \n",
       " Lateral plate mesoderm            -7.690522   -8.818993   \n",
       " Low quality                        4.114305   32.692350   \n",
       " Mixed mesenchymal mesoderm        -1.326140   -2.512384   \n",
       " Neural crest                       2.845099   -6.384532   \n",
       " NMP                               -5.357822   -3.366220   \n",
       " Presomitic mesoderm               -7.571096   -6.375889   \n",
       " Sclerotome                         7.170055   -2.356902   \n",
       " Spinal cord                      -28.905946  -16.092404   \n",
       " Splanchnic mesoderm              -10.942597   -3.408582   \n",
       " Surface ectoderm                 -11.104054   -7.987022   \n",
       " \n",
       "                                 Forebrain/Midbrain/Hindbrain    Gut tube  ...  \\\n",
       " Allantois                                         -10.199207   -5.304978  ...   \n",
       " Anterior somitic tissues                          -11.651890   -6.535721  ...   \n",
       " Cardiomyocytes                                    -32.045454  -19.051544  ...   \n",
       " Cranial mesoderm                                  -21.204758   -2.305255  ...   \n",
       " Definitive endoderm                                -4.466784   -6.501945  ...   \n",
       " Dermomyotome                                      -25.918877  -15.416693  ...   \n",
       " Endothelium                                       -34.150509   -6.748288  ...   \n",
       " Erythroid                                         -19.021072  -11.637504  ...   \n",
       " Forebrain/Midbrain/Hindbrain                      208.542419  -45.182091  ...   \n",
       " Gut tube                                          -44.683374  199.709170  ...   \n",
       " Haematoendothelial progenitors                    -27.449649   -9.790557  ...   \n",
       " Intermediate mesoderm                             -29.723272  -14.752803  ...   \n",
       " Lateral plate mesoderm                            -40.449418  -21.454675  ...   \n",
       " Low quality                                       -14.008731  -17.341654  ...   \n",
       " Mixed mesenchymal mesoderm                        -26.528399  -14.242390  ...   \n",
       " Neural crest                                      -28.888500  -17.144221  ...   \n",
       " NMP                                               -10.099783   -7.036871  ...   \n",
       " Presomitic mesoderm                               -25.203226  -14.954642  ...   \n",
       " Sclerotome                                         -9.559313   -6.064757  ...   \n",
       " Spinal cord                                       -43.836004  -34.795549  ...   \n",
       " Splanchnic mesoderm                               -38.486543  -15.533554  ...   \n",
       " Surface ectoderm                                  -30.139759  -15.617421  ...   \n",
       " \n",
       "                                 Lateral plate mesoderm  Low quality  \\\n",
       " Allantois                                    18.942482    -3.397573   \n",
       " Anterior somitic tissues                     -6.948412    -2.967802   \n",
       " Cardiomyocytes                              -17.157270   -18.048167   \n",
       " Cranial mesoderm                            -15.175491    -7.931396   \n",
       " Definitive endoderm                          -9.270779     1.395047   \n",
       " Dermomyotome                                -14.211676    -7.744906   \n",
       " Endothelium                                  -8.552919     4.393517   \n",
       " Erythroid                                    -9.566210    32.191401   \n",
       " Forebrain/Midbrain/Hindbrain                -42.530776   -16.552703   \n",
       " Gut tube                                    -21.330936   -17.966533   \n",
       " Haematoendothelial progenitors               -0.557418     1.730117   \n",
       " Intermediate mesoderm                        45.709810    -5.787832   \n",
       " Lateral plate mesoderm                      167.123217   -16.916032   \n",
       " Low quality                                 -16.357207    62.545752   \n",
       " Mixed mesenchymal mesoderm                   -3.768322   -13.001823   \n",
       " Neural crest                                -19.898375    -1.952446   \n",
       " NMP                                          -5.734813    -4.028033   \n",
       " Presomitic mesoderm                         -13.402889   -12.741294   \n",
       " Sclerotome                                   -5.803259    -4.353828   \n",
       " Spinal cord                                 -31.498524     7.791281   \n",
       " Splanchnic mesoderm                         -12.824633   -11.799883   \n",
       " Surface ectoderm                            -12.277955    -8.692844   \n",
       " \n",
       "                                 Mixed mesenchymal mesoderm  Neural crest  \\\n",
       " Allantois                                        29.339333     -4.736778   \n",
       " Anterior somitic tissues                         -4.291572      4.106277   \n",
       " Cardiomyocytes                                    6.239167    -14.555713   \n",
       " Cranial mesoderm                                 -9.967064      2.233766   \n",
       " Definitive endoderm                              -5.560212     -7.031255   \n",
       " Dermomyotome                                     -9.645431     -4.185259   \n",
       " Endothelium                                      -2.321633      1.661521   \n",
       " Erythroid                                        -5.445372     -6.424457   \n",
       " Forebrain/Midbrain/Hindbrain                    -27.977124    -29.043550   \n",
       " Gut tube                                        -14.631689    -17.188339   \n",
       " Haematoendothelial progenitors                    6.084273     -1.496279   \n",
       " Intermediate mesoderm                             2.762915    -11.250047   \n",
       " Lateral plate mesoderm                           -3.430489    -19.929627   \n",
       " Low quality                                     -12.204430     -0.525963   \n",
       " Mixed mesenchymal mesoderm                      135.259264    -11.192077   \n",
       " Neural crest                                    -11.668577    150.599025   \n",
       " NMP                                              -4.104857     -5.324261   \n",
       " Presomitic mesoderm                              -7.586007    -11.541046   \n",
       " Sclerotome                                       -3.709758     -0.634429   \n",
       " Spinal cord                                     -21.108275    -27.022692   \n",
       " Splanchnic mesoderm                              -0.221328    -16.298395   \n",
       " Surface ectoderm                                  6.176009      6.611535   \n",
       " \n",
       "                                       NMP  Presomitic mesoderm  Sclerotome  \\\n",
       " Allantois                       -1.588727            -3.394332   -1.400770   \n",
       " Anterior somitic tissues        -2.023373            -1.795883   25.826447   \n",
       " Cardiomyocytes                  -5.033922           -10.853882   -4.330445   \n",
       " Cranial mesoderm                -3.009289            -8.048699   13.030355   \n",
       " Definitive endoderm             -2.421517            -5.182440   -0.931758   \n",
       " Dermomyotome                     1.998414            25.584576   23.859733   \n",
       " Endothelium                     -5.468026            -7.964852    9.408545   \n",
       " Erythroid                       -3.432452            -6.268069   -2.418323   \n",
       " Forebrain/Midbrain/Hindbrain   -10.530942           -26.325543   -9.805926   \n",
       " Gut tube                        -6.928483           -15.118290   -6.239570   \n",
       " Haematoendothelial progenitors  -3.875396            -6.937914    8.711354   \n",
       " Intermediate mesoderm           -1.145358            -4.462147    0.563402   \n",
       " Lateral plate mesoderm          -5.588590           -13.475451   -6.000455   \n",
       " Low quality                     -3.611770           -13.141483   -4.759371   \n",
       " Mixed mesenchymal mesoderm      -4.406454            -8.711195   -3.593784   \n",
       " Neural crest                    -5.416976           -11.670619   -1.321443   \n",
       " NMP                             13.278815            -0.654997   -0.385673   \n",
       " Presomitic mesoderm             -0.892145           186.836533   -2.933773   \n",
       " Sclerotome                       0.789270            -2.948008   34.218458   \n",
       " Spinal cord                     42.919275           -16.323065   -5.983071   \n",
       " Splanchnic mesoderm             -5.013972           -12.567249   -2.631812   \n",
       " Surface ectoderm                -3.748079            -4.334821   -4.169566   \n",
       " \n",
       "                                 Spinal cord  Splanchnic mesoderm  \\\n",
       " Allantois                         -7.740776            -3.312932   \n",
       " Anterior somitic tissues          -7.504931            -4.695405   \n",
       " Cardiomyocytes                   -25.606071            -9.448148   \n",
       " Cranial mesoderm                 -17.724067           -11.065340   \n",
       " Definitive endoderm               -4.751355            -7.066032   \n",
       " Dermomyotome                     -14.530904            -7.746497   \n",
       " Endothelium                      -28.396550           -12.989660   \n",
       " Erythroid                        -15.136149            -5.802930   \n",
       " Forebrain/Midbrain/Hindbrain     -43.480022           -39.281974   \n",
       " Gut tube                         -34.498215           -15.087157   \n",
       " Haematoendothelial progenitors   -20.242539            -6.314165   \n",
       " Intermediate mesoderm            -13.731856             2.626800   \n",
       " Lateral plate mesoderm           -31.069309           -12.367540   \n",
       " Low quality                       11.360453           -12.041317   \n",
       " Mixed mesenchymal mesoderm       -21.084326             0.134553   \n",
       " Neural crest                     -26.823953           -16.746458   \n",
       " NMP                               43.962392            -4.684868   \n",
       " Presomitic mesoderm              -16.602106           -12.282623   \n",
       " Sclerotome                        -6.403455            -1.852602   \n",
       " Spinal cord                      169.786640           -30.989673   \n",
       " Splanchnic mesoderm              -30.405304           170.596225   \n",
       " Surface ectoderm                 -21.811346            -9.880215   \n",
       " \n",
       "                                 Surface ectoderm  \n",
       " Allantois                               0.953190  \n",
       " Anterior somitic tissues               -4.866746  \n",
       " Cardiomyocytes                        -12.023099  \n",
       " Cranial mesoderm                      -10.496223  \n",
       " Definitive endoderm                    -2.390229  \n",
       " Dermomyotome                           -2.445881  \n",
       " Endothelium                           -10.410146  \n",
       " Erythroid                              -8.157576  \n",
       " Forebrain/Midbrain/Hindbrain          -31.748837  \n",
       " Gut tube                              -15.620727  \n",
       " Haematoendothelial progenitors         -0.705024  \n",
       " Intermediate mesoderm                   3.847109  \n",
       " Lateral plate mesoderm                -11.263239  \n",
       " Low quality                            -9.035784  \n",
       " Mixed mesenchymal mesoderm              4.193797  \n",
       " Neural crest                            9.794002  \n",
       " NMP                                    -3.567290  \n",
       " Presomitic mesoderm                    -1.157155  \n",
       " Sclerotome                             -3.492587  \n",
       " Spinal cord                           -20.054707  \n",
       " Splanchnic mesoderm                   -10.169130  \n",
       " Surface ectoderm                      134.601679  \n",
       " \n",
       " [22 rows x 22 columns]}"
      ]
     },
     "execution_count": 3,
     "metadata": {},
     "output_type": "execute_result"
    },
    {
     "data": {
      "image/png": "[encoded data removed]",
      "text/plain": [
       "<Figure size 1008x1008 with 5 Axes>"
      ]
     },
     "metadata": {
      "needs_background": "light"
     },
     "output_type": "display_data"
    }
   ],
   "source": [
    "# seqFISH\n",
    "adata = sq.datasets.seqfish()\n",
    "get_adata_nes(adata, cluster_key=\"celltype_mapped_refined\", method=\"ward\")"
   ]
  },
  {
   "cell_type": "code",
   "execution_count": null,
   "id": "sexual-behalf",
   "metadata": {},
   "outputs": [],
   "source": []
  },
  {
   "cell_type": "code",
   "execution_count": null,
   "id": "smooth-gibraltar",
   "metadata": {
    "scrolled": false
   },
   "outputs": [
    {
     "name": "stderr",
     "output_type": "stream",
     "text": [
      "/home/dbdimitrov/.local/lib/python3.8/site-packages/scipy/sparse/_index.py:125: SparseEfficiencyWarning: Changing the sparsity structure of a csr_matrix is expensive. lil_matrix is more efficient.\n",
      "  self._set_arrayXarray(i, j, x)\n"
     ]
    },
    {
     "data": {
      "application/vnd.jupyter.widget-view+json": {
       "model_id": "5aabb1379b844013911c0ba2f997a96b",
       "version_major": 2,
       "version_minor": 0
      },
      "text/plain": [
       "  0%|          | 0/1000 [00:00<?, ?/s]"
      ]
     },
     "metadata": {},
     "output_type": "display_data"
    }
   ],
   "source": [
    "# merFISH\n",
    "adata = sq.datasets.merfish()\n",
    "seq_both = get_adata_nes(adata, cluster_key=\"Cell_class\", spatial_key=\"spatial3d\", method=\"single\", cmap=\"inferno\", vmin=-50, vmax=100)"
   ]
  },
  {
   "cell_type": "code",
   "execution_count": null,
   "id": "original-police",
   "metadata": {},
   "outputs": [],
   "source": []
  },
  {
   "cell_type": "code",
   "execution_count": null,
   "id": "political-mailing",
   "metadata": {},
   "outputs": [],
   "source": []
  },
  {
   "cell_type": "markdown",
   "id": "broad-hopkins",
   "metadata": {},
   "source": [
    "## Datasets as in Squidpy analyses"
   ]
  },
  {
   "cell_type": "markdown",
   "id": "competent-cleveland",
   "metadata": {},
   "source": [
    "### SlideSeq"
   ]
  },
  {
   "cell_type": "code",
   "execution_count": null,
   "id": "educated-rebound",
   "metadata": {
    "scrolled": true
   },
   "outputs": [],
   "source": [
    "adata = sq.datasets.slideseqv2()"
   ]
  },
  {
   "cell_type": "code",
   "execution_count": null,
   "id": "endless-serial",
   "metadata": {},
   "outputs": [],
   "source": [
    "sq.gr.spatial_neighbors(adata, coord_type=\"generic\")\n",
    "sq.gr.nhood_enrichment(adata, cluster_key=\"cluster\")"
   ]
  },
  {
   "cell_type": "code",
   "execution_count": null,
   "id": "motivated-american",
   "metadata": {},
   "outputs": [],
   "source": [
    "adata.obsm['deconvolution_results']"
   ]
  },
  {
   "cell_type": "code",
   "execution_count": null,
   "id": "electric-mexico",
   "metadata": {},
   "outputs": [],
   "source": []
  },
  {
   "cell_type": "markdown",
   "id": "indirect-appendix",
   "metadata": {},
   "source": [
    "## SeqFish"
   ]
  },
  {
   "cell_type": "code",
   "execution_count": null,
   "id": "respiratory-small",
   "metadata": {},
   "outputs": [],
   "source": [
    "adata = sq.datasets.seqfish()"
   ]
  },
  {
   "cell_type": "code",
   "execution_count": null,
   "id": "conventional-milan",
   "metadata": {},
   "outputs": [],
   "source": [
    "adata"
   ]
  },
  {
   "cell_type": "code",
   "execution_count": null,
   "id": "inappropriate-claim",
   "metadata": {},
   "outputs": [],
   "source": [
    "sc.pl.spatial(adata, color=\"celltype_mapped_refined\", spot_size=0.03)"
   ]
  },
  {
   "cell_type": "code",
   "execution_count": null,
   "id": "incorrect-wright",
   "metadata": {},
   "outputs": [],
   "source": []
  },
  {
   "cell_type": "code",
   "execution_count": null,
   "id": "residential-alias",
   "metadata": {},
   "outputs": [],
   "source": [
    "help(sq.gr.spatial_neighbors)"
   ]
  },
  {
   "cell_type": "code",
   "execution_count": null,
   "id": "broke-tomato",
   "metadata": {
    "scrolled": false
   },
   "outputs": [],
   "source": [
    "sq.gr.spatial_neighbors(adata, coord_type=\"generic\")\n",
    "sq.gr.nhood_enrichment(adata, cluster_key=\"celltype_mapped_refined\")\n",
    "sq.pl.nhood_enrichment(adata, cluster_key=\"celltype_mapped_refined\", method=\"ward\")"
   ]
  },
  {
   "cell_type": "code",
   "execution_count": null,
   "id": "packed-martial",
   "metadata": {},
   "outputs": [],
   "source": []
  },
  {
   "cell_type": "code",
   "execution_count": null,
   "id": "bronze-latino",
   "metadata": {},
   "outputs": [],
   "source": [
    "nn = sq.gr.nhood_enrichment(adata, cluster_key=\"celltype_mapped_refined\", copy = True)"
   ]
  },
  {
   "cell_type": "code",
   "execution_count": null,
   "id": "hungry-ridge",
   "metadata": {},
   "outputs": [],
   "source": []
  },
  {
   "cell_type": "code",
   "execution_count": null,
   "id": "premier-induction",
   "metadata": {},
   "outputs": [],
   "source": [
    "cats = adata.obs[\"celltype_mapped_refined\"].cat.categories"
   ]
  },
  {
   "cell_type": "code",
   "execution_count": null,
   "id": "romantic-feedback",
   "metadata": {},
   "outputs": [],
   "source": [
    "nes = pd.DataFrame(adata.uns['celltype_mapped_refined_nhood_enrichment']['zscore'],index=cats,columns=cats)"
   ]
  },
  {
   "cell_type": "code",
   "execution_count": null,
   "id": "expressed-dining",
   "metadata": {},
   "outputs": [],
   "source": [
    "nes"
   ]
  },
  {
   "cell_type": "code",
   "execution_count": null,
   "id": "egyptian-stereo",
   "metadata": {},
   "outputs": [],
   "source": [
    "help(sq.pl.nhood_enrichment)"
   ]
  },
  {
   "cell_type": "code",
   "execution_count": null,
   "id": "ultimate-beaver",
   "metadata": {},
   "outputs": [],
   "source": [
    "\n",
    "nes"
   ]
  },
  {
   "cell_type": "code",
   "execution_count": null,
   "id": "conceptual-netherlands",
   "metadata": {},
   "outputs": [],
   "source": []
  },
  {
   "cell_type": "markdown",
   "id": "electric-neighbor",
   "metadata": {},
   "source": [
    "## merFISH"
   ]
  },
  {
   "cell_type": "code",
   "execution_count": null,
   "id": "fallen-workplace",
   "metadata": {},
   "outputs": [],
   "source": [
    "adata = sq.datasets.merfish()"
   ]
  },
  {
   "cell_type": "code",
   "execution_count": null,
   "id": "impressed-dialogue",
   "metadata": {},
   "outputs": [],
   "source": [
    "adata"
   ]
  },
  {
   "cell_type": "code",
   "execution_count": null,
   "id": "eleven-comfort",
   "metadata": {},
   "outputs": [],
   "source": [
    "sc.pl.spatial(adata, color=\"Cell_class\", spot_size=0.03)"
   ]
  },
  {
   "cell_type": "code",
   "execution_count": null,
   "id": "dependent-missile",
   "metadata": {},
   "outputs": [],
   "source": []
  },
  {
   "cell_type": "code",
   "execution_count": null,
   "id": "tamil-lucas",
   "metadata": {},
   "outputs": [],
   "source": [
    "sq.gr.spatial_neighbors(adata, coord_type=\"generic\", spatial_key=\"spatial3d\")\n",
    "sq.gr.nhood_enrichment(adata, cluster_key=\"Cell_class\")"
   ]
  },
  {
   "cell_type": "code",
   "execution_count": null,
   "id": "boxed-aquarium",
   "metadata": {},
   "outputs": [],
   "source": [
    "sq.pl.nhood_enrichment(adata, cluster_key=\"Cell_class\", method=\"single\", cmap=\"inferno\", vmin=-50, vmax=100)"
   ]
  },
  {
   "cell_type": "code",
   "execution_count": null,
   "id": "billion-transfer",
   "metadata": {},
   "outputs": [],
   "source": [
    "cluster_key = \"Cell_class\"\n",
    "cats = adata.obs[cluster_key].cat.categories\n",
    "nes_key = \"{}_nhood_enrichment\".format(cluster_key)"
   ]
  },
  {
   "cell_type": "code",
   "execution_count": null,
   "id": "fixed-ideal",
   "metadata": {},
   "outputs": [],
   "source": [
    "nes = pd.DataFrame(adata.uns[nes_key]['zscore'],index=cats,columns=cats)"
   ]
  },
  {
   "cell_type": "code",
   "execution_count": null,
   "id": "strong-finder",
   "metadata": {},
   "outputs": [],
   "source": [
    "nes = pd.DataFrame(adata.uns['celltype_mapped_refined_nhood_enrichment']['zscore'],index=cats,columns=cats)"
   ]
  },
  {
   "cell_type": "code",
   "execution_count": null,
   "id": "french-birthday",
   "metadata": {},
   "outputs": [],
   "source": [
    "nes"
   ]
  },
  {
   "cell_type": "markdown",
   "id": "skilled-campbell",
   "metadata": {},
   "source": [
    "### Both"
   ]
  },
  {
   "cell_type": "code",
   "execution_count": null,
   "id": "sporting-level",
   "metadata": {},
   "outputs": [],
   "source": [
    "dict(adata = adata,\n",
    "     nes = nes)"
   ]
  },
  {
   "cell_type": "code",
   "execution_count": null,
   "id": "aggressive-relations",
   "metadata": {},
   "outputs": [],
   "source": []
  },
  {
   "cell_type": "code",
   "execution_count": null,
   "id": "wrong-promotion",
   "metadata": {},
   "outputs": [],
   "source": []
  },
  {
   "cell_type": "code",
   "execution_count": null,
   "id": "comfortable-madrid",
   "metadata": {},
   "outputs": [],
   "source": []
  }
 ],
 "metadata": {
  "kernelspec": {
   "display_name": "Python 3",
   "language": "python",
   "name": "python3"
  },
  "language_info": {
   "codemirror_mode": {
    "name": "ipython",
    "version": 3
   },
   "file_extension": ".py",
   "mimetype": "text/x-python",
   "name": "python",
   "nbconvert_exporter": "python",
   "pygments_lexer": "ipython3",
   "version": "3.8.5"
  }
 },
 "nbformat": 4,
 "nbformat_minor": 5
}
